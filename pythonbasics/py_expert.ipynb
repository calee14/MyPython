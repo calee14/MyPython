{
 "cells": [
  {
   "cell_type": "markdown",
   "metadata": {},
   "source": [
    "# What Does It Take to Be An Expert At Python Notes\n"
   ]
  },
  {
   "cell_type": "code",
   "execution_count": null,
   "metadata": {},
   "outputs": [],
   "source": [
    "\n",
    "# some behavior that I want to implement -> write some __function__\n",
    "# top-level function or top-level syntax -> corresponding __\n",
    "# x + y -. __add__\n",
    "# init x -> __init__\n",
    "# repr(x) --> __repr__\n",
    "# x() -> __call__\n",
    "\n",
    "class Polynomial:\n",
    "\tdef __init__(self, *coeffs):\n",
    "\t\tself.coeffs = coeffs\n",
    "\n",
    "\tdef __repr__(self):\n",
    "\t\treturn 'Polynomial(*{!r})'.format(self.coeffs)\n",
    "\n",
    "\tdef __add__(self, other):\n",
    "\t\treturn Polynomial(*(x + y for x, y in zip(self.coeffs, other.coeffs)))\n",
    "\n",
    "\tdef __len__(self):\n",
    "\t\treturn len(self.coeffs)\n",
    "\n",
    "\tdef __call__(self):\n",
    "\t\tpass\n"
   ]
  },
  {
   "cell_type": "markdown",
   "metadata": {},
   "source": [
    "# 3 Core Patterns to understand object orientation"
   ]
  },
  {
   "cell_type": "code",
   "execution_count": null,
   "metadata": {},
   "outputs": [],
   "source": [
    "\n",
    "p1 = Polynomial(1, 2, 3)\n",
    "p2 = Polynomial(3, 4, 3)\n"
   ]
  },
  {
   "cell_type": "code",
   "execution_count": null,
   "metadata": {},
   "outputs": [],
   "source": [
    "p1 + p2"
   ]
  },
  {
   "cell_type": "code",
   "execution_count": null,
   "metadata": {},
   "outputs": [],
   "source": [
    "len(p1)"
   ]
  },
  {
   "cell_type": "markdown",
   "metadata": {},
   "source": [
    "# Metaclasses"
   ]
  },
  {
   "cell_type": "code",
   "execution_count": null,
   "metadata": {},
   "outputs": [],
   "source": [
    "# File 1 - library.py\n",
    "\n",
    "class Base:\n",
    "\tdef food(self):\n",
    "\t\treturn 'foo'"
   ]
  },
  {
   "cell_type": "code",
   "execution_count": null,
   "metadata": {},
   "outputs": [],
   "source": [
    "# File 2 - user.py\n",
    "\n",
    "assert hasattr(Base, 'foo'), \"you broke it, you fool!\"\n",
    "\n",
    "class Derived(Base):\n",
    "\tdef bar(self):\n",
    "\t\treturn self.foo"
   ]
  },
  {
   "cell_type": "code",
   "execution_count": null,
   "metadata": {},
   "outputs": [],
   "source": [
    "# File 1 - library.py\n",
    "\n",
    "class Base:\n",
    "\tdef foo(self):\n",
    "\t\treturn self.bar()"
   ]
  },
  {
   "cell_type": "code",
   "execution_count": null,
   "metadata": {},
   "outputs": [],
   "source": [
    "# File 2 - user.py\n",
    "\n",
    "assert hasattr(Base, 'foo'), \"you borke it, you fool\"\n",
    "\n",
    "class Derived(Base):\n",
    "\tdef bar(self):\n",
    "\t\treturn 'bar'"
   ]
  },
  {
   "cell_type": "code",
   "execution_count": null,
   "metadata": {},
   "outputs": [],
   "source": [
    "Derived.bar"
   ]
  },
  {
   "cell_type": "code",
   "execution_count": null,
   "metadata": {},
   "outputs": [],
   "source": [
    "def _():\n",
    "\tclass Base:\n",
    "\t\tpass\n",
    "    \n",
    "from dis import dis"
   ]
  },
  {
   "cell_type": "code",
   "execution_count": null,
   "metadata": {},
   "outputs": [],
   "source": [
    "dis(_) # LOAD_BUILD_CLASS"
   ]
  },
  {
   "cell_type": "code",
   "execution_count": null,
   "metadata": {},
   "outputs": [],
   "source": [
    "# Catch Building of Classes\n",
    "\n",
    "class Base:\n",
    "\tdef foo(self):\n",
    "\t\treturn self.bar()\n",
    "\n",
    "old_bc = __build_class__\n",
    "def my_bc(*a, **kw):\n",
    "\tprint('my buildclass ->', a, kw)\n",
    "\treturn old_bc(*a, kw)\n",
    "\n",
    "import builtins\n",
    "builtins.__build_class__ = my_bc"
   ]
  },
  {
   "cell_type": "code",
   "execution_count": null,
   "metadata": {},
   "outputs": [],
   "source": [
    "import builtins"
   ]
  },
  {
   "cell_type": "code",
   "execution_count": null,
   "metadata": {},
   "outputs": [],
   "source": [
    "import importlib\n",
    "importlib.reload(builtins)\n"
   ]
  },
  {
   "cell_type": "code",
   "execution_count": null,
   "metadata": {},
   "outputs": [],
   "source": [
    "class BaseMeta(type):\n",
    "\tdef __new__(cls, name, bases, body):\n",
    "\t\tprint('BaseMeta.__new__', cls, name, bases, body)\n",
    "\t\treturn super().__new__(clas, name, bases, body)\n",
    "\n",
    "class Base(metaclass=BaseMeta):\n",
    "\tdef foo(self):\n",
    "\t\treturn self.bar()"
   ]
  },
  {
   "cell_type": "code",
   "execution_count": null,
   "metadata": {},
   "outputs": [],
   "source": [
    "class BaseMeta(type):\n",
    "\tdef __new__(cls, name, bases, body):\n",
    "\t\tif not 'bar' in body:\n",
    "\t\t\traise TypeError('bad user class')\n",
    "\t\treturn super().__new__(cls, name, bases, body)\n",
    "\n",
    "class Base(metaclass=BaseMeta):\n",
    "\tdef foo(self):\n",
    "\t\treturn self.bar()\n"
   ]
  },
  {
   "cell_type": "code",
   "execution_count": null,
   "metadata": {},
   "outputs": [],
   "source": [
    "\n",
    "class BaseMeta(type):\n",
    "\tdef __new__(cls, name, bases, body):\n",
    "\t\tif name != 'Base' and not 'bar' in body:\n",
    "\t\t\traise TypeError('bad user class')\n",
    "\t\treturn super().__new__(cls, name , bases, body)\n",
    "\n",
    "class Base(metaclass=BaseMeta):\n",
    "\tdef foo(self):\n",
    "\t\treturn self.bar()\n",
    "\n",
    "\tdef __init_subclass__(*a, **kw)\n",
    "\t\tprint('init_subclass', a, kw)\n",
    "\t\treturn super().__init_subclass__(*a, **kw)\n"
   ]
  },
  {
   "cell_type": "code",
   "execution_count": null,
   "metadata": {},
   "outputs": [],
   "source": [
    "\n",
    "help(Base.__init_subclass__)\n"
   ]
  }
 ],
 "metadata": {},
 "nbformat": 4,
 "nbformat_minor": 0
}
